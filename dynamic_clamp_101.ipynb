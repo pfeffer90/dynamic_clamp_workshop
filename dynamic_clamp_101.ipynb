{
 "cells": [
  {
   "cell_type": "markdown",
   "metadata": {},
   "source": [
    "## History of the dynamic clamp\n",
    "\n",
    "* [The dynamic clamp: artficial conductances in biological neurons](publications/Sharp1993_artficial_conductances_in_biological_neurons.pdf)\n",
    "* introduced in 1993 by the groups of Larry Abbott (**T**) and Eve Marder (**E**)\n",
    "* \"uses computer simulation to introduce conductances into biological neurons\"\n",
    "* \"makes computer simulation an interactive experimental tool\"\n"
   ]
  },
  {
   "cell_type": "markdown",
   "metadata": {},
   "source": [
    "## Principle of the dynamic clamp\n",
    "\n",
    "[![principle_of_dynamic_clamp](images/principle_of_dynamic_clamp.png)](https://www.sciencedirect.com/science/article/pii/S0166223604000554?via%3Dihub#FIG1)\n",
    "\n",
    "* fast feedback cycle between measuring the membrane potential and injecting current\n",
    "* a computer updates a model of an ionic or synaptic conductances according to the incomping potential and calculates the corresponding current\n",
    "* the injected dynamic current mimics the presence of the conductance"
   ]
  },
  {
   "cell_type": "markdown",
   "metadata": {},
   "source": [
    "## Applications\n",
    "\n",
    "Examples from [The dynamic clamp comes of age](https://www.sciencedirect.com/science/article/pii/S0166223604000554?via%3Dihub#FIG1)\n",
    "\n",
    "### Voltage-independent conductances\n",
    "\n",
    "![v_independent](images/v_independent_conductances.png)\n",
    "\n",
    "### Voltage-dependent conductances\n",
    "![v_dependent](images/v_dependent_conductances.png)\n",
    "\n",
    "### Artificial networks of real neurons\n",
    "![artificial_synapses](images/artificial_synapses.png)\n",
    "\n",
    "### Hybrid networks\n",
    "![hybrid_circuit](images/hybrid_circuit.png)\n",
    "\n"
   ]
  },
  {
   "cell_type": "markdown",
   "metadata": {},
   "source": [
    "## Limitations and challenges"
   ]
  },
  {
   "cell_type": "markdown",
   "metadata": {},
   "source": [
    "### Speed, space clamp and ionic nature of currents\n",
    "\n",
    "* the dynamic clamp loop has to be faster than the fastest time scale in the neuron, e.g. fast sodium channels during spiking\n",
    "* the dynamic clamp introduces the simulated conductance at the electrode location and cannot mimic distributed conductance over the membrane\n",
    "* dynamic clamp currents lack the ionic nature of the simulated current and can miss second messenger, e.g. Ca$^{2+}$\n",
    "\n",
    "### Electrode artfifacts\n",
    "\n",
    "![electrode_model](images/electrode_model.png)\n",
    "\n",
    "![electrode_artifacts](images/electrode_artifacts.png)\n",
    "\n"
   ]
  },
  {
   "cell_type": "markdown",
   "metadata": {},
   "source": [
    "## Available setups\n",
    "\n",
    "* [RELACS + npi electronics ](http://relacs.sourceforge.net/features/)\n",
    "* [A dynamic clamp on every rig](https://www.ncbi.nlm.nih.gov/pmc/articles/PMC5659377/)\n",
    "* [Dynamic clamp with StdpC software](https://www.nature.com/articles/nprot.2010.200)\n",
    "* [High-speed dynamic-clamp interface](https://www.physiology.org/doi/full/10.1152/jn.00543.2014#B13)\n",
    "* ..."
   ]
  },
  {
   "cell_type": "code",
   "execution_count": null,
   "metadata": {
    "collapsed": true
   },
   "outputs": [],
   "source": []
  },
  {
   "cell_type": "code",
   "execution_count": null,
   "metadata": {
    "collapsed": true
   },
   "outputs": [],
   "source": []
  }
 ],
 "metadata": {
  "kernelspec": {
   "display_name": "Python 2",
   "language": "python",
   "name": "python2"
  },
  "language_info": {
   "codemirror_mode": {
    "name": "ipython",
    "version": 2
   },
   "file_extension": ".py",
   "mimetype": "text/x-python",
   "name": "python",
   "nbconvert_exporter": "python",
   "pygments_lexer": "ipython2",
   "version": "2.7.13"
  }
 },
 "nbformat": 4,
 "nbformat_minor": 2
}
